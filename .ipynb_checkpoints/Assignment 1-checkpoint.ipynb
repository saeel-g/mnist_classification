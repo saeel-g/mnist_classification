{
 "cells": [
  {
   "cell_type": "code",
   "execution_count": 14,
   "id": "7b171e3b",
   "metadata": {},
   "outputs": [],
   "source": [
    "data={\n",
    "    'user1': 'password1',\n",
    "    'user2': 'password2',\n",
    "    'user3': 'password3',\n",
    "    'user4': 'password4',\n",
    "    'user5': 'password5',\n",
    "    'user6': 'password6',\n",
    "    'user7': 'password7',\n",
    "    'user8': 'password8',\n",
    "    'user9': 'password9',\n",
    "    'user10': 'password10'\n",
    "}"
   ]
  },
  {
   "cell_type": "code",
   "execution_count": null,
   "id": "8e0e9de8",
   "metadata": {},
   "outputs": [
    {
     "name": "stdout",
     "output_type": "stream",
     "text": [
      "enter your username:usw\n",
      "enter your password:w\n",
      "login failed!!!\n"
     ]
    }
   ],
   "source": [
    "max_attempts=5\n",
    "attempts=0\n",
    "while attempts<=max_attempts:\n",
    "    username=input(\"enter your username:\")\n",
    "    password=input(\"enter your password:\")\n",
    "  \n",
    "    if username in data and data[username]==password:\n",
    "        print(\"welcome to SGGS\")\n",
    "        break\n",
    "    else:\n",
    "        attempts +=1\n",
    "        print(\"login failed!!!,Password or username incorrect\")\n",
    "        \n",
    "        if attempts==max_attempts-1:\n",
    "            print(\"only one attempt left\")\n",
    "if attempts==max_attempts:\n",
    "    print(\"Maximum number of login attempts exceeded.\")\n",
    "            \n",
    "        "
   ]
  },
  {
   "cell_type": "code",
   "execution_count": null,
   "id": "d5bbfbd7",
   "metadata": {},
   "outputs": [],
   "source": []
  }
 ],
 "metadata": {
  "kernelspec": {
   "display_name": "Python 3 (ipykernel)",
   "language": "python",
   "name": "python3"
  },
  "language_info": {
   "codemirror_mode": {
    "name": "ipython",
    "version": 3
   },
   "file_extension": ".py",
   "mimetype": "text/x-python",
   "name": "python",
   "nbconvert_exporter": "python",
   "pygments_lexer": "ipython3",
   "version": "3.11.3"
  }
 },
 "nbformat": 4,
 "nbformat_minor": 5
}
